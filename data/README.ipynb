{
 "cells": [
  {
   "cell_type": "markdown",
   "metadata": {},
   "source": [
    "# Predictions for King County Houses"
   ]
  },
  {
   "cell_type": "markdown",
   "metadata": {},
   "source": [
    "For this project, I will use regression modeling to analyze house sales in King County and predict prices for other homes in that area. With my model, we can analyze different variables and see which one has the largest impact on the price.\n",
    "This sort of model could be used to help real estate agents, clients, and investors take advantage of opportunities to sell, upgrade, or buy homes."
   ]
  },
  {
   "cell_type": "markdown",
   "metadata": {},
   "source": [
    "# Data"
   ]
  },
  {
   "cell_type": "markdown",
   "metadata": {},
   "source": [
    "The dataset can be found at 'kc_house_data.csv'. It containes 21 variables and 21k transactions. It was fairly cleaned with a few missing/unrecognizable values. Columns descriptions: \n",
    "* id - unique identifier for a house\n",
    "* dateDate - house was sold\n",
    "* pricePrice - is prediction target\n",
    "* bedroomsNumber - of Bedrooms/House\n",
    "* bathroomsNumber - of bathrooms/bedrooms\n",
    "* sqft_livingsquare - footage of the home\n",
    "* sqft_lotsquare - footage of the lot\n",
    "* floorsTotal - floors (levels) in house\n",
    "* waterfront - House which has a view to a waterfront\n",
    "* view - Quality of view\n",
    "* condition - How good the condition is ( Overall )\n",
    "* grade - overall grade given to the housing unit, based on King County grading system\n",
    "* sqft_above - square footage of house apart from basement\n",
    "* sqft_basement - square footage of the basement\n",
    "* yr_built - Built Year\n",
    "* yr_renovated - Year when house was renovated\n",
    "* zipcode - zip\n",
    "* lat - Latitude coordinate\n",
    "* long - Longitude coordinate\n",
    "* sqft_living15 - The square footage of interior housing living space for the nearest 15 neighbors\n",
    "* sqft_lot15 - The square footage of the land lots of the nearest 15 neighbors\n",
    "\n",
    "I also added data with the cities in King County from 'uszips.csv' which can be found in this repository. I used 24 cities which cut down the quantity of zipcodes I had to deal with."
   ]
  },
  {
   "cell_type": "markdown",
   "metadata": {},
   "source": [
    "![kc_area](images/project9.png)"
   ]
  },
  {
   "cell_type": "markdown",
   "metadata": {},
   "source": [
    "# Key Findings"
   ]
  },
  {
   "cell_type": "markdown",
   "metadata": {},
   "source": [
    "**Which area has the most/least expensive houses?**"
   ]
  },
  {
   "cell_type": "markdown",
   "metadata": {},
   "source": [
    "![expensive_houses](images/project4.png)"
   ]
  },
  {
   "cell_type": "markdown",
   "metadata": {},
   "source": [
    "Here the graph is showing the least to most expensive cities to live by the median pricing of houses in the area. So even though some cities have high prices, you can still find a good deal if you're on a budget."
   ]
  },
  {
   "cell_type": "markdown",
   "metadata": {},
   "source": [
    "**Does the grading system have a significant impact on pricing?**"
   ]
  },
  {
   "cell_type": "markdown",
   "metadata": {},
   "source": [
    "![house_grade](images/project5.png)"
   ]
  },
  {
   "cell_type": "markdown",
   "metadata": {},
   "source": [
    "Above you can see the grading scale King County uses for their system. Below you can see the pricing on houses with a certain grade. It seems to have a positive relationship with prices. So if you're in the market to sell it's best to try to get a grade 9 or better. For example, going from grade 8 to grade 9 can increase your profits by at least 100K(comaparing the medians)."
   ]
  },
  {
   "cell_type": "markdown",
   "metadata": {},
   "source": [
    "![grade_and_prices](images/project6.png)"
   ]
  },
  {
   "cell_type": "markdown",
   "metadata": {},
   "source": [
    "**How does adding bathrooms affect the pricing of houses?**"
   ]
  },
  {
   "cell_type": "markdown",
   "metadata": {},
   "source": [
    "![bathroom_scale](images/project7.png)"
   ]
  },
  {
   "cell_type": "markdown",
   "metadata": {},
   "source": [
    "So adding bathrooms can increase the amount you pay for your new home. Make sense, since it adds to the size of the home. Above shows the scale steadily going up until you get to around 5. Below you can see the increase in price as you move from 1 to 4 bathrooms. So the best bet you be upgrading from either 2(b2) to 3(b3), or 3 to 4(b4) bathrooms, for the smallest increase in price."
   ]
  },
  {
   "cell_type": "markdown",
   "metadata": {},
   "source": [
    "![bath_perc](images/project8.png)"
   ]
  },
  {
   "cell_type": "markdown",
   "metadata": {},
   "source": [
    "# Recommendations:\n",
    "1. Buy a house with a grade no lower than 6. Over time, do some renovations to get it up to at least a grade 9 for potential selling bonus.\n",
    "2. Narrow down to the top five cities within your budget. Even the cities with more expensive houses, aside from Medina, meets up with the average prices for houses sold in King County.\n",
    "3. Looking to add extra rooms, the best bang for your buck is moving from 2 bathrooms to 3, or 3 bathrooms to 4. "
   ]
  }
 ],
 "metadata": {
  "kernelspec": {
   "display_name": "Python 3",
   "language": "python",
   "name": "python3"
  },
  "language_info": {
   "codemirror_mode": {
    "name": "ipython",
    "version": 3
   },
   "file_extension": ".py",
   "mimetype": "text/x-python",
   "name": "python",
   "nbconvert_exporter": "python",
   "pygments_lexer": "ipython3",
   "version": "3.8.5"
  },
  "toc": {
   "base_numbering": 1,
   "nav_menu": {},
   "number_sections": true,
   "sideBar": true,
   "skip_h1_title": false,
   "title_cell": "Table of Contents",
   "title_sidebar": "Contents",
   "toc_cell": false,
   "toc_position": {},
   "toc_section_display": true,
   "toc_window_display": false
  },
  "varInspector": {
   "cols": {
    "lenName": 16,
    "lenType": 16,
    "lenVar": 40
   },
   "kernels_config": {
    "python": {
     "delete_cmd_postfix": "",
     "delete_cmd_prefix": "del ",
     "library": "var_list.py",
     "varRefreshCmd": "print(var_dic_list())"
    },
    "r": {
     "delete_cmd_postfix": ") ",
     "delete_cmd_prefix": "rm(",
     "library": "var_list.r",
     "varRefreshCmd": "cat(var_dic_list()) "
    }
   },
   "types_to_exclude": [
    "module",
    "function",
    "builtin_function_or_method",
    "instance",
    "_Feature"
   ],
   "window_display": false
  }
 },
 "nbformat": 4,
 "nbformat_minor": 4
}
